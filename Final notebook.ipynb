{
 "cells": [
  {
   "cell_type": "code",
   "execution_count": 2,
   "metadata": {
    "id": "FFswtuDCo_6e"
   },
   "outputs": [],
   "source": [
    "import numpy as np\n",
    "import pandas as pd\n",
    "import matplotlib.pyplot as plt\n",
    "from sklearn import preprocessing\n",
    "import random\n",
    "# Use matplotlib in notebook output\n",
    "%matplotlib inline"
   ]
  },
  {
   "cell_type": "code",
   "execution_count": 24,
   "metadata": {
    "id": "LLxYT-6qpUEV"
   },
   "outputs": [],
   "source": [
    "df=pd.read_csv('generic.csv')"
   ]
  },
  {
   "cell_type": "code",
   "execution_count": 35,
   "metadata": {
    "id": "97m71-0opa5x"
   },
   "outputs": [],
   "source": [
    "df.head()\n",
    "df = df.dropna()"
   ]
  },
  {
   "cell_type": "code",
   "execution_count": 36,
   "metadata": {
    "colab": {
     "base_uri": "https://localhost:8080/"
    },
    "id": "V2BNCYYgpceh",
    "outputId": "a08df1a4-1141-4b34-9b16-7eb2de9eaa91"
   },
   "outputs": [
    {
     "data": {
      "text/plain": [
       "0.0    321\n",
       "1.0    318\n",
       "2.0    288\n",
       "Name: condition, dtype: int64"
      ]
     },
     "execution_count": 36,
     "metadata": {},
     "output_type": "execute_result"
    }
   ],
   "source": [
    "df['condition'].value_counts()"
   ]
  },
  {
   "cell_type": "code",
   "execution_count": 37,
   "metadata": {
    "colab": {
     "base_uri": "https://localhost:8080/",
     "height": 316
    },
    "id": "8mB7f8cQphb4",
    "outputId": "4226c7ad-bec2-4c7a-eb3c-ecab1979767f"
   },
   "outputs": [
    {
     "data": {
      "text/plain": [
       "array([[<matplotlib.axes._subplots.AxesSubplot object at 0x7f753c2eff40>]],\n",
       "      dtype=object)"
      ]
     },
     "execution_count": 37,
     "metadata": {},
     "output_type": "execute_result"
    },
    {
     "data": {
      "image/png": "[encoded data removed]",
      "text/plain": [
       "<Figure size 432x288 with 1 Axes>"
      ]
     },
     "metadata": {
      "needs_background": "light"
     },
     "output_type": "display_data"
    }
   ],
   "source": [
    "df.hist(column='SKEW',bins=50)"
   ]
  },
  {
   "cell_type": "code",
   "execution_count": 38,
   "metadata": {
    "colab": {
     "base_uri": "https://localhost:8080/"
    },
    "id": "PpiDHw5xqDWh",
    "outputId": "481c8fc7-90c1-4491-d4ce-3159e180179b"
   },
   "outputs": [
    {
     "data": {
      "text/plain": [
       "Index(['MEAN', 'MAX', 'MIN', 'RANGE', 'KURT', 'SKEW', 'MEAN_1ST_GRAD',\n",
       "       'STD_1ST_GRAD', 'MEAN_2ND_GRAD', 'STD_2ND_GRAD', 'ALSC', 'INSC', 'APSC',\n",
       "       'RMSC', 'MIN_PEAKS', 'MAX_PEAKS', 'STD_PEAKS', 'MEAN_PEAKS',\n",
       "       'MIN_ONSET', 'MAX_ONSET', 'STD_ONSET', 'MEAN_ONSET', 'MEAN_LOG',\n",
       "       'MEAN_SQRT', 'MAX_LOG', 'MAX_SQRT', 'MIN_LOG', 'MIN_SQRT', 'RANGE_LOG',\n",
       "       'RANGE_SQRT', 'KURT_YEO_JON', 'SKEW_YEO_JON', 'MEAN_1ST_GRAD_YEO_JON',\n",
       "       'STD_1ST_GRAD_YEO_JON', 'MEAN_2ND_GRAD_YEO_JON', 'STD_2ND_GRAD_YEO_JON',\n",
       "       'ALSC_LOG', 'ALSC_SQRT', 'INSC_LOG', 'INSC_SQRT', 'APSC_LOG',\n",
       "       'APSC_SQRT', 'RMSC_LOG', 'RMSC_SQRT', 'MIN_PEAKS_LOG', 'MIN_PEAKS_SQRT',\n",
       "       'MAX_PEAKS_LOG', 'MAX_PEAKS_SQRT', 'STD_PEAKS_YEO_JON',\n",
       "       'MEAN_PEAKS_LOG', 'MEAN_PEAKS_SQRT', 'MIN_ONSET_LOG', 'MIN_ONSET_SQRT',\n",
       "       'MAX_ONSET_LOG', 'MAX_ONSET_SQRT', 'STD_ONSET_YEO_JON',\n",
       "       'MEAN_ONSET_LOG', 'MEAN_ONSET_SQRT', 'NasaTLX', 'subject_id',\n",
       "       'condition'],\n",
       "      dtype='object')"
      ]
     },
     "execution_count": 38,
     "metadata": {},
     "output_type": "execute_result"
    }
   ],
   "source": [
    "df.columns"
   ]
  },
  {
   "cell_type": "code",
   "execution_count": 39,
   "metadata": {
    "colab": {
     "base_uri": "https://localhost:8080/",
     "height": 299
    },
    "id": "nj7qTI32qNBB",
    "outputId": "d2c81d8c-7a59-4a1e-bd52-0fa6ef1689b8"
   },
   "outputs": [
    {
     "data": {
      "text/html": [
       "\n",
       "  <div id=\"df-cab41769-5fd0-438f-90da-d02de2e2b82c\">\n",
       "    <div class=\"colab-df-container\">\n",
       "      <div>\n",
       "<style scoped>\n",
       "    .dataframe tbody tr th:only-of-type {\n",
       "        vertical-align: middle;\n",
       "    }\n",
       "\n",
       "    .dataframe tbody tr th {\n",
       "        vertical-align: top;\n",
       "    }\n",
       "\n",
       "    .dataframe thead th {\n",
       "        text-align: right;\n",
       "    }\n",
       "</style>\n",
       "<table border=\"1\" class=\"dataframe\">\n",
       "  <thead>\n",
       "    <tr style=\"text-align: right;\">\n",
       "      <th></th>\n",
       "      <th>MEAN</th>\n",
       "      <th>MAX</th>\n",
       "      <th>MIN</th>\n",
       "      <th>RANGE</th>\n",
       "      <th>KURT</th>\n",
       "      <th>SKEW</th>\n",
       "      <th>MEAN_1ST_GRAD</th>\n",
       "      <th>STD_1ST_GRAD</th>\n",
       "      <th>MEAN_2ND_GRAD</th>\n",
       "      <th>STD_2ND_GRAD</th>\n",
       "      <th>...</th>\n",
       "      <th>MEAN_PEAKS_SQRT</th>\n",
       "      <th>MIN_ONSET_LOG</th>\n",
       "      <th>MIN_ONSET_SQRT</th>\n",
       "      <th>MAX_ONSET_LOG</th>\n",
       "      <th>MAX_ONSET_SQRT</th>\n",
       "      <th>STD_ONSET_YEO_JON</th>\n",
       "      <th>MEAN_ONSET_LOG</th>\n",
       "      <th>MEAN_ONSET_SQRT</th>\n",
       "      <th>NasaTLX</th>\n",
       "      <th>subject_id</th>\n",
       "    </tr>\n",
       "  </thead>\n",
       "  <tbody>\n",
       "    <tr>\n",
       "      <th>0</th>\n",
       "      <td>0.004253</td>\n",
       "      <td>0.019560</td>\n",
       "      <td>0.001990</td>\n",
       "      <td>0.017570</td>\n",
       "      <td>20.915630</td>\n",
       "      <td>3.786213</td>\n",
       "      <td>-0.000050</td>\n",
       "      <td>0.001891</td>\n",
       "      <td>0.000065</td>\n",
       "      <td>0.001654</td>\n",
       "      <td>...</td>\n",
       "      <td>2.256595</td>\n",
       "      <td>0.864792</td>\n",
       "      <td>1.172396</td>\n",
       "      <td>3.115467</td>\n",
       "      <td>4.641546</td>\n",
       "      <td>1.547503</td>\n",
       "      <td>1.806592</td>\n",
       "      <td>2.256027</td>\n",
       "      <td>41.9</td>\n",
       "      <td>19.0</td>\n",
       "    </tr>\n",
       "    <tr>\n",
       "      <th>1</th>\n",
       "      <td>0.213681</td>\n",
       "      <td>0.549792</td>\n",
       "      <td>0.061582</td>\n",
       "      <td>0.488210</td>\n",
       "      <td>-0.212470</td>\n",
       "      <td>1.065222</td>\n",
       "      <td>-0.018682</td>\n",
       "      <td>0.129339</td>\n",
       "      <td>0.018813</td>\n",
       "      <td>0.114925</td>\n",
       "      <td>...</td>\n",
       "      <td>3.712098</td>\n",
       "      <td>1.105587</td>\n",
       "      <td>1.421617</td>\n",
       "      <td>4.433812</td>\n",
       "      <td>9.124251</td>\n",
       "      <td>2.715429</td>\n",
       "      <td>2.704835</td>\n",
       "      <td>3.735217</td>\n",
       "      <td>61.4</td>\n",
       "      <td>22.0</td>\n",
       "    </tr>\n",
       "    <tr>\n",
       "      <th>2</th>\n",
       "      <td>0.007752</td>\n",
       "      <td>0.025986</td>\n",
       "      <td>0.002701</td>\n",
       "      <td>0.023285</td>\n",
       "      <td>3.708117</td>\n",
       "      <td>1.538769</td>\n",
       "      <td>0.000156</td>\n",
       "      <td>0.003263</td>\n",
       "      <td>-0.000313</td>\n",
       "      <td>0.003243</td>\n",
       "      <td>...</td>\n",
       "      <td>2.054597</td>\n",
       "      <td>0.722971</td>\n",
       "      <td>1.029829</td>\n",
       "      <td>3.023065</td>\n",
       "      <td>4.422013</td>\n",
       "      <td>1.360222</td>\n",
       "      <td>1.659345</td>\n",
       "      <td>2.062975</td>\n",
       "      <td>51.7</td>\n",
       "      <td>13.0</td>\n",
       "    </tr>\n",
       "    <tr>\n",
       "      <th>3</th>\n",
       "      <td>0.049358</td>\n",
       "      <td>0.169965</td>\n",
       "      <td>0.017070</td>\n",
       "      <td>0.152896</td>\n",
       "      <td>3.209756</td>\n",
       "      <td>1.786002</td>\n",
       "      <td>0.001838</td>\n",
       "      <td>0.028175</td>\n",
       "      <td>0.003158</td>\n",
       "      <td>0.022892</td>\n",
       "      <td>...</td>\n",
       "      <td>1.945951</td>\n",
       "      <td>0.703107</td>\n",
       "      <td>1.009960</td>\n",
       "      <td>2.724676</td>\n",
       "      <td>3.775111</td>\n",
       "      <td>1.228759</td>\n",
       "      <td>1.564734</td>\n",
       "      <td>1.944583</td>\n",
       "      <td>57.3</td>\n",
       "      <td>9.0</td>\n",
       "    </tr>\n",
       "    <tr>\n",
       "      <th>4</th>\n",
       "      <td>0.005466</td>\n",
       "      <td>0.015709</td>\n",
       "      <td>0.001605</td>\n",
       "      <td>0.014104</td>\n",
       "      <td>0.936805</td>\n",
       "      <td>1.002262</td>\n",
       "      <td>-0.000129</td>\n",
       "      <td>0.002273</td>\n",
       "      <td>0.000118</td>\n",
       "      <td>0.002061</td>\n",
       "      <td>...</td>\n",
       "      <td>2.164625</td>\n",
       "      <td>0.684566</td>\n",
       "      <td>0.991418</td>\n",
       "      <td>3.213883</td>\n",
       "      <td>4.886255</td>\n",
       "      <td>1.504692</td>\n",
       "      <td>1.737747</td>\n",
       "      <td>2.164376</td>\n",
       "      <td>63.7</td>\n",
       "      <td>24.0</td>\n",
       "    </tr>\n",
       "  </tbody>\n",
       "</table>\n",
       "<p>5 rows × 60 columns</p>\n",
       "</div>\n",
       "      <button class=\"colab-df-convert\" onclick=\"convertToInteractive('df-cab41769-5fd0-438f-90da-d02de2e2b82c')\"\n",
       "              title=\"Convert this dataframe to an interactive table.\"\n",
       "              style=\"display:none;\">\n",
       "        \n",
       "  <svg xmlns=\"http://www.w3.org/2000/svg\" height=\"24px\"viewBox=\"0 0 24 24\"\n",
       "       width=\"24px\">\n",
       "    <path d=\"M0 0h24v24H0V0z\" fill=\"none\"/>\n",
       "    <path d=\"M18.56 5.44l.94 2.06.94-2.06 2.06-.94-2.06-.94-.94-2.06-.94 2.06-2.06.94zm-11 1L8.5 8.5l.94-2.06 2.06-.94-2.06-.94L8.5 2.5l-.94 2.06-2.06.94zm10 10l.94 2.06.94-2.06 2.06-.94-2.06-.94-.94-2.06-.94 2.06-2.06.94z\"/><path d=\"M17.41 7.96l-1.37-1.37c-.4-.4-.92-.59-1.43-.59-.52 0-1.04.2-1.43.59L10.3 9.45l-7.72 7.72c-.78.78-.78 2.05 0 2.83L4 21.41c.39.39.9.59 1.41.59.51 0 1.02-.2 1.41-.59l7.78-7.78 2.81-2.81c.8-.78.8-2.07 0-2.86zM5.41 20L4 18.59l7.72-7.72 1.47 1.35L5.41 20z\"/>\n",
       "  </svg>\n",
       "      </button>\n",
       "      \n",
       "  <style>\n",
       "    .colab-df-container {\n",
       "      display:flex;\n",
       "      flex-wrap:wrap;\n",
       "      gap: 12px;\n",
       "    }\n",
       "\n",
       "    .colab-df-convert {\n",
       "      background-color: #E8F0FE;\n",
       "      border: none;\n",
       "      border-radius: 50%;\n",
       "      cursor: pointer;\n",
       "      display: none;\n",
       "      fill: #1967D2;\n",
       "      height: 32px;\n",
       "      padding: 0 0 0 0;\n",
       "      width: 32px;\n",
       "    }\n",
       "\n",
       "    .colab-df-convert:hover {\n",
       "      background-color: #E2EBFA;\n",
       "      box-shadow: 0px 1px 2px rgba(60, 64, 67, 0.3), 0px 1px 3px 1px rgba(60, 64, 67, 0.15);\n",
       "      fill: #174EA6;\n",
       "    }\n",
       "\n",
       "    [theme=dark] .colab-df-convert {\n",
       "      background-color: #3B4455;\n",
       "      fill: #D2E3FC;\n",
       "    }\n",
       "\n",
       "    [theme=dark] .colab-df-convert:hover {\n",
       "      background-color: #434B5C;\n",
       "      box-shadow: 0px 1px 3px 1px rgba(0, 0, 0, 0.15);\n",
       "      filter: drop-shadow(0px 1px 2px rgba(0, 0, 0, 0.3));\n",
       "      fill: #FFFFFF;\n",
       "    }\n",
       "  </style>\n",
       "\n",
       "      <script>\n",
       "        const buttonEl =\n",
       "          document.querySelector('#df-cab41769-5fd0-438f-90da-d02de2e2b82c button.colab-df-convert');\n",
       "        buttonEl.style.display =\n",
       "          google.colab.kernel.accessAllowed ? 'block' : 'none';\n",
       "\n",
       "        async function convertToInteractive(key) {\n",
       "          const element = document.querySelector('#df-cab41769-5fd0-438f-90da-d02de2e2b82c');\n",
       "          const dataTable =\n",
       "            await google.colab.kernel.invokeFunction('convertToInteractive',\n",
       "                                                     [key], {});\n",
       "          if (!dataTable) return;\n",
       "\n",
       "          const docLinkHtml = 'Like what you see? Visit the ' +\n",
       "            '<a target=\"_blank\" href=https://colab.research.google.com/notebooks/data_table.ipynb>data table notebook</a>'\n",
       "            + ' to learn more about interactive tables.';\n",
       "          element.innerHTML = '';\n",
       "          dataTable['output_type'] = 'display_data';\n",
       "          await google.colab.output.renderOutput(dataTable, element);\n",
       "          const docLink = document.createElement('div');\n",
       "          docLink.innerHTML = docLinkHtml;\n",
       "          element.appendChild(docLink);\n",
       "        }\n",
       "      </script>\n",
       "    </div>\n",
       "  </div>\n",
       "  "
      ],
      "text/plain": [
       "       MEAN       MAX       MIN     RANGE       KURT      SKEW  MEAN_1ST_GRAD  \\\n",
       "0  0.004253  0.019560  0.001990  0.017570  20.915630  3.786213      -0.000050   \n",
       "1  0.213681  0.549792  0.061582  0.488210  -0.212470  1.065222      -0.018682   \n",
       "2  0.007752  0.025986  0.002701  0.023285   3.708117  1.538769       0.000156   \n",
       "3  0.049358  0.169965  0.017070  0.152896   3.209756  1.786002       0.001838   \n",
       "4  0.005466  0.015709  0.001605  0.014104   0.936805  1.002262      -0.000129   \n",
       "\n",
       "   STD_1ST_GRAD  MEAN_2ND_GRAD  STD_2ND_GRAD  ...  MEAN_PEAKS_SQRT  \\\n",
       "0      0.001891       0.000065      0.001654  ...         2.256595   \n",
       "1      0.129339       0.018813      0.114925  ...         3.712098   \n",
       "2      0.003263      -0.000313      0.003243  ...         2.054597   \n",
       "3      0.028175       0.003158      0.022892  ...         1.945951   \n",
       "4      0.002273       0.000118      0.002061  ...         2.164625   \n",
       "\n",
       "   MIN_ONSET_LOG  MIN_ONSET_SQRT  MAX_ONSET_LOG  MAX_ONSET_SQRT  \\\n",
       "0       0.864792        1.172396       3.115467        4.641546   \n",
       "1       1.105587        1.421617       4.433812        9.124251   \n",
       "2       0.722971        1.029829       3.023065        4.422013   \n",
       "3       0.703107        1.009960       2.724676        3.775111   \n",
       "4       0.684566        0.991418       3.213883        4.886255   \n",
       "\n",
       "   STD_ONSET_YEO_JON  MEAN_ONSET_LOG  MEAN_ONSET_SQRT  NasaTLX  subject_id  \n",
       "0           1.547503        1.806592         2.256027     41.9        19.0  \n",
       "1           2.715429        2.704835         3.735217     61.4        22.0  \n",
       "2           1.360222        1.659345         2.062975     51.7        13.0  \n",
       "3           1.228759        1.564734         1.944583     57.3         9.0  \n",
       "4           1.504692        1.737747         2.164376     63.7        24.0  \n",
       "\n",
       "[5 rows x 60 columns]"
      ]
     },
     "execution_count": 39,
     "metadata": {},
     "output_type": "execute_result"
    }
   ],
   "source": [
    "X=df[['MEAN', 'MAX', 'MIN', 'RANGE', 'KURT', 'SKEW', 'MEAN_1ST_GRAD',\n",
    "       'STD_1ST_GRAD', 'MEAN_2ND_GRAD', 'STD_2ND_GRAD', 'ALSC', 'INSC', 'APSC',\n",
    "       'RMSC', 'MIN_PEAKS', 'MAX_PEAKS', 'STD_PEAKS', 'MEAN_PEAKS',\n",
    "       'MIN_ONSET', 'MAX_ONSET', 'STD_ONSET', 'MEAN_ONSET', 'MEAN_LOG',\n",
    "       'MEAN_SQRT', 'MAX_LOG', 'MAX_SQRT', 'MIN_LOG', 'MIN_SQRT', 'RANGE_LOG',\n",
    "       'RANGE_SQRT', 'KURT_YEO_JON', 'SKEW_YEO_JON', 'MEAN_1ST_GRAD_YEO_JON',\n",
    "       'STD_1ST_GRAD_YEO_JON', 'MEAN_2ND_GRAD_YEO_JON', 'STD_2ND_GRAD_YEO_JON',\n",
    "       'ALSC_LOG', 'ALSC_SQRT', 'INSC_LOG', 'INSC_SQRT', 'APSC_LOG',\n",
    "       'APSC_SQRT', 'RMSC_LOG', 'RMSC_SQRT', 'MIN_PEAKS_LOG', 'MIN_PEAKS_SQRT',\n",
    "       'MAX_PEAKS_LOG', 'MAX_PEAKS_SQRT', 'STD_PEAKS_YEO_JON',\n",
    "       'MEAN_PEAKS_LOG', 'MEAN_PEAKS_SQRT', 'MIN_ONSET_LOG', 'MIN_ONSET_SQRT',\n",
    "       'MAX_ONSET_LOG', 'MAX_ONSET_SQRT', 'STD_ONSET_YEO_JON',\n",
    "       'MEAN_ONSET_LOG', 'MEAN_ONSET_SQRT', 'NasaTLX', 'subject_id']]\n",
    "X[0:5]"
   ]
  },
  {
   "cell_type": "code",
   "execution_count": 40,
   "metadata": {
    "colab": {
     "base_uri": "https://localhost:8080/"
    },
    "id": "UrIGxLFGqgd7",
    "outputId": "2ea7572f-b864-4c21-a3c3-76a6a2cabd54"
   },
   "outputs": [
    {
     "data": {
      "text/plain": [
       "array([0., 2., 1., 2., 0.])"
      ]
     },
     "execution_count": 40,
     "metadata": {},
     "output_type": "execute_result"
    }
   ],
   "source": [
    "y=df['condition'].values\n",
    "y[0:5]"
   ]
  },
  {
   "cell_type": "code",
   "execution_count": null,
   "metadata": {},
   "outputs": [],
   "source": [
    "plotx = []\n",
    "ploty = []\n",
    "for i in range(len(df)):\n",
    "    plotx.append(df['MEAN'][i])\n",
    "    ploty.append(y[i])\n",
    "plt.plot(plotx,ploty, 'bo')"
   ]
  },
  {
   "cell_type": "markdown",
   "metadata": {},
   "source": [
    "# Helper Functions"
   ]
  },
  {
   "cell_type": "code",
   "execution_count": null,
   "metadata": {},
   "outputs": [],
   "source": [
    "def random_centers(dim,k):\n",
    "    centers = []\n",
    "    for i in range(k):\n",
    "        center = []\n",
    "        for d in range(dim):\n",
    "            rand = random.randint(0,100)\n",
    "            center.append(rand)\n",
    "        centers.append(center)\n",
    "    return centers\n",
    "\n",
    "def point_clustering(data, centers, dims, first_cluster=False):\n",
    "    for point in data:\n",
    "        nearest_center = 0\n",
    "        nearest_center_dist = None\n",
    "        for i in range(0, len(centers)):\n",
    "            euclidean_dist = 0\n",
    "            for d in range(0, dims):\n",
    "                dist = abs(point[d] - centers[i][d])\n",
    "                euclidean_dist += dist\n",
    "            euclidean_dist = np.sqrt(euclidean_dist)\n",
    "            if nearest_center_dist == None:\n",
    "                nearest_center_dist = euclidean_dist\n",
    "                nearest_center = i\n",
    "            elif nearest_center_dist > euclidean_dist:\n",
    "                nearest_center_dist = euclidean_dist\n",
    "                nearest_center = i\n",
    "        if first_cluster:\n",
    "            point.append(nearest_center)\n",
    "        else:\n",
    "            point[-1] = nearest_center\n",
    "    return data\n",
    "\n",
    "\n",
    "def mean_center(data, centers, dims):\n",
    "    print('centers:', centers, 'dims:', dims)\n",
    "    new_centers = []\n",
    "    for i in range(len(centers)):\n",
    "        new_center = []\n",
    "        n_of_points = 0\n",
    "        total_of_points = []\n",
    "        for point in data:\n",
    "            if point[-1] == i:\n",
    "                n_of_points += 1\n",
    "                for dim in range(0, dims):\n",
    "                    if dim < len(total_of_points):\n",
    "                        total_of_points[dim] += point[dim]\n",
    "                    else:\n",
    "                        total_of_points.append(point[dim])\n",
    "        if len(total_of_points) != 0:\n",
    "            for dim in range(0, dims):\n",
    "                print(total_of_points, dim)\n",
    "                new_center.append(total_of_points[dim] / n_of_points)\n",
    "            new_centers.append(new_center)\n",
    "        else:\n",
    "            new_centers.append(centers[i])\n",
    "\n",
    "    return new_centers"
   ]
  },
  {
   "cell_type": "markdown",
   "metadata": {},
   "source": [
    "#  K means algorithm"
   ]
  },
  {
   "cell_type": "code",
   "execution_count": null,
   "metadata": {},
   "outputs": [],
   "source": [
    "def train_k_means_clustering(data, k=2, epochs=5):\n",
    "    dims = len(data[0])\n",
    "    print('data[0]:', data[0])\n",
    "    centers = random_centers(dims, k)\n",
    "\n",
    "    clustered_data = point_clustering(data, centers, dims, first_cluster=True)\n",
    "\n",
    "    for i in range(epochs):\n",
    "        centers = mean_center(clustered_data, centers, dims)\n",
    "        clustered_data = point_clustering(data, centers, dims, first_cluster=False)\n",
    "\n",
    "    return centers\n",
    "\n",
    "\n",
    "def predict_k_means_clustering(point, centers):\n",
    "    dims = len(point)\n",
    "    center_dims = len(centers[0])\n",
    "\n",
    "    if dims != center_dims:\n",
    "        raise ValueError('Point given for prediction have', dims, 'dimensions but centers have', center_dims,\n",
    "                         'dimensions')\n",
    "\n",
    "    nearest_center = None\n",
    "    nearest_dist = None\n",
    "\n",
    "    for i in range(len(centers)):\n",
    "        euclidean_dist = 0\n",
    "        for dim in range(1, dims):\n",
    "            dist = point[dim] - centers[i][dim]\n",
    "            euclidean_dist += dist ** 2\n",
    "        euclidean_dist = np.sqrt(euclidean_dist)\n",
    "        if nearest_dist == None:\n",
    "            nearest_dist = euclidean_dist\n",
    "            nearest_center = i\n",
    "        elif nearest_dist > euclidean_dist:\n",
    "            nearest_dist = euclidean_dist\n",
    "            nearest_center = i\n",
    "        print('center:', i, 'dist:', euclidean_dist)\n",
    "\n",
    "    return nearest_center"
   ]
  },
  {
   "cell_type": "markdown",
   "metadata": {},
   "source": [
    "# Centres"
   ]
  },
  {
   "cell_type": "code",
   "execution_count": null,
   "metadata": {},
   "outputs": [],
   "source": [
    "centers = train_k_means_clustering(X, k=2, epochs=5)\n",
    "print(centers)\n",
    "\n",
    "point = [110,3]\n",
    "print(predict_k_means_clustering(point, centers))"
   ]
  },
  {
   "cell_type": "markdown",
   "metadata": {},
   "source": [
    "# Final Cluster Centres for mean column"
   ]
  },
  {
   "cell_type": "code",
   "execution_count": null,
   "metadata": {},
   "outputs": [],
   "source": [
    "plt.plot(plotx,ploty, 'bo', centers[0][0], centers[0][1],'ro', centers[1][0], centers[1][1], 'go', point[0], point[1], 'yo')"
   ]
  }
 ],
 "metadata": {
  "colab": {
   "provenance": []
  },
  "kernelspec": {
   "display_name": "Python 3",
   "language": "python",
   "name": "python3"
  },
  "language_info": {
   "codemirror_mode": {
    "name": "ipython",
    "version": 3
   },
   "file_extension": ".py",
   "mimetype": "text/x-python",
   "name": "python",
   "nbconvert_exporter": "python",
   "pygments_lexer": "ipython3",
   "version": "3.8.5"
  }
 },
 "nbformat": 4,
 "nbformat_minor": 1
}
